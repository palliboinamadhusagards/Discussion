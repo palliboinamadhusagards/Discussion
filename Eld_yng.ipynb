{
 "cells": [
  {
   "cell_type": "code",
   "execution_count": 1,
   "metadata": {},
   "outputs": [],
   "source": [
    "class Elder:\n",
    "    \n",
    "    true_elderlist = []\n",
    "    \n",
    "    @classmethod\n",
    "    def truestatuslist(cls,obj):\n",
    "        if obj.status:\n",
    "            cls.true_elderlist.append(obj.name)\n",
    "        else:\n",
    "            pass\n",
    "    \n",
    "    def __init__(self,name,email, password,current_balance):\n",
    "        self.name = name\n",
    "        self.email = email\n",
    "        self.password = password\n",
    "        self.status = \"\"\n",
    "        self.current_balance = current_balance\n",
    "        self.__approve = False\n",
    "        \n",
    "    \n",
    "    def login(self, email, password):\n",
    "        if self.email == email and self.password == password:\n",
    "            return \"Login Successfully\"\n",
    "        else:\n",
    "            return \"Enter username and password not valid try again\"\n",
    "        \n",
    "    def elder_dashboard(self):\n",
    "        if self.status == 1:\n",
    "            print(\"You are currently available to take care of.\\n 1.Status_change\\n2.Pay for younger\\n3.Accept request\\n4.Younger details\\n5.Reviews and Ratings\\n6.Log out\")\n",
    "            choice = int(input())\n",
    "            if choice == 1:\n",
    "                self.status_change()\n",
    "#                 self.elder_dashboard()\n",
    "            \n",
    "            elif choice == 2:\n",
    "                self.pay_younger()\n",
    "                            \n",
    "            if choice == 3:\n",
    "                self.accept_request()\n",
    "                 \n",
    "            if choice == 4:\n",
    "                self.younger_details()\n",
    "                            \n",
    "            if choice == 5:\n",
    "                self.review_ratings()\n",
    "#                 self.elder_dashboard()\n",
    "            \n",
    "            if choice == 6:\n",
    "                self.logout()\n",
    "        \n",
    "        else:\n",
    "            print(\"You are currently unavailable to take care of.\\n 1.Change status \\n2.Log out\")\n",
    "            choice = int(input())\n",
    "            if choice == 1:\n",
    "                self.status_change()\n",
    "                self.elder_dashboard()\n",
    "            \n",
    "            elif choice == 2:\n",
    "                self.logout()\n",
    "            \n",
    "    def status_change(self):\n",
    "        choice = int(input(\"Enter your status:\\n 1. Availabe \\n 2. Unavilable \\3. Enter your option\"))\n",
    "        if choice == 1:\n",
    "            self.status = True\n",
    "            Elder.truestatuslist(self)\n",
    "        elif choice == 2:\n",
    "            self.status = False\n",
    "        print(\"Status changed\")\n",
    "\n",
    "        self.elder_dashboard()\n",
    "        \n",
    "    def get_elderstatus(self):\n",
    "         return self.status\n",
    "          \n",
    "    def pay_younger(self):\n",
    "        amount = int(input(\"Enter fee amount for younger:\"))\n",
    "        balance = self.current_balance - amount\n",
    "        print(balance)\n",
    "       \n",
    "    def accept_request(self):\n",
    "        approve = \"\"\n",
    "        choice = int(input(\"Enter your status:\\n 1. Approve \\n 2. Not Approve \\n 3. Enter your option\"))\n",
    "        if choice == 1:\n",
    "            approve = True\n",
    "            print(\"Approve\")\n",
    "        elif choice == 2:\n",
    "            approve = False\n",
    "            print(\"Not approve\")\n",
    "            \n",
    "            self.elder_dashboard()\n",
    "        \n",
    "        self.approve = approve\n",
    "        \n",
    "    def younger_details(self):\n",
    "        pass\n",
    "    \n",
    "    def review_ratings(self):\n",
    "        pass\n",
    "    \n",
    "    def logout(self):\n",
    "        pass"
   ]
  },
  {
   "cell_type": "code",
   "execution_count": 2,
   "metadata": {},
   "outputs": [],
   "source": [
    "ed1 = Elder(\"abc\",\"abc@xyz.com\", 123,10000)\n",
    "ed2 = Elder(\"pqr\",\"pqr@xyz.com\", 132,25000)\n",
    "ed3 = Elder(\"klm\",\"klm@xyz.com\", 123,10000)\n",
    "ed4 = Elder(\"uvw\",\"uvw@xyz.com\", 132,25000)\n",
    "ed5 = Elder(\"efg\",\"efg@xyz.com\", 123,10000)\n",
    "ed6 = Elder(\"hij\",\"hij@xyz.com\", 132,25000)"
   ]
  },
  {
   "cell_type": "code",
   "execution_count": 3,
   "metadata": {},
   "outputs": [
    {
     "name": "stdout",
     "output_type": "stream",
     "text": [
      "Enter username and password not valid try again\n"
     ]
    }
   ],
   "source": [
    "res = ed1.login(\"acb@xyz.com\", 123)\n",
    "print(res)"
   ]
  },
  {
   "cell_type": "code",
   "execution_count": 4,
   "metadata": {
    "scrolled": true
   },
   "outputs": [
    {
     "name": "stdout",
     "output_type": "stream",
     "text": [
      "You are currently unavailable to take care of.\n",
      " 1.Change status \n",
      "2.Log out\n",
      "1\n",
      "Enter your status:\n",
      " 1. Availabe \n",
      " 2. Unavilable \u0003. Enter your option1\n",
      "Status changed\n",
      "You are currently available to take care of.\n",
      " 1.Status_change\n",
      "2.Pay for younger\n",
      "3.Accept request\n",
      "4.Younger details\n",
      "5.Reviews and Ratings\n",
      "6.Log out\n",
      "3\n",
      "Enter your status:\n",
      " 1. Approve \n",
      " 2. Not Approve \n",
      " 3. Enter your option1\n",
      "Approve\n",
      "You are currently available to take care of.\n",
      " 1.Status_change\n",
      "2.Pay for younger\n",
      "3.Accept request\n",
      "4.Younger details\n",
      "5.Reviews and Ratings\n",
      "6.Log out\n",
      "2\n",
      "Enter fee amount for younger:10000\n",
      "0\n"
     ]
    }
   ],
   "source": [
    "ed1.elder_dashboard()"
   ]
  },
  {
   "cell_type": "code",
   "execution_count": 5,
   "metadata": {},
   "outputs": [
    {
     "data": {
      "text/plain": [
       "True"
      ]
     },
     "execution_count": 5,
     "metadata": {},
     "output_type": "execute_result"
    }
   ],
   "source": [
    "ed1.get_elderstatus()"
   ]
  },
  {
   "cell_type": "code",
   "execution_count": 6,
   "metadata": {},
   "outputs": [
    {
     "data": {
      "text/plain": [
       "['abc']"
      ]
     },
     "execution_count": 6,
     "metadata": {},
     "output_type": "execute_result"
    }
   ],
   "source": [
    "Elder.true_elderlist"
   ]
  },
  {
   "cell_type": "code",
   "execution_count": 7,
   "metadata": {},
   "outputs": [
    {
     "data": {
      "text/plain": [
       "''"
      ]
     },
     "execution_count": 7,
     "metadata": {},
     "output_type": "execute_result"
    }
   ],
   "source": [
    "ed2.get_elderstatus()"
   ]
  },
  {
   "cell_type": "code",
   "execution_count": 30,
   "metadata": {},
   "outputs": [
    {
     "name": "stdout",
     "output_type": "stream",
     "text": [
      "You are currently unavailable to take care of.\n",
      " 1.Change status \n",
      "2.Log out\n",
      "1\n",
      "Enter your status:\n",
      "1. Availabe \n",
      "2. Unavilable \\Enter your option1\n",
      "\n",
      "Status changed\n",
      "You are currently available to take care of.\n",
      " 1.Status_change\n",
      "2.Pay for younger\n",
      "3.Accept request\n",
      "4.Younger details\n",
      "5.Reviews and Ratings\n",
      "6.Log out\n",
      "6\n",
      "You are currently available to take care of.\n",
      " 1.Status_change\n",
      "2.Pay for younger\n",
      "3.Accept request\n",
      "4.Younger details\n",
      "5.Reviews and Ratings\n",
      "6.Log out\n",
      "6\n"
     ]
    }
   ],
   "source": [
    "ed2.elder_dashboard()"
   ]
  },
  {
   "cell_type": "code",
   "execution_count": 31,
   "metadata": {},
   "outputs": [
    {
     "data": {
      "text/plain": [
       "True"
      ]
     },
     "execution_count": 31,
     "metadata": {},
     "output_type": "execute_result"
    }
   ],
   "source": [
    "ed2.get_elderstatus()"
   ]
  },
  {
   "cell_type": "code",
   "execution_count": 32,
   "metadata": {},
   "outputs": [
    {
     "data": {
      "text/plain": [
       "['abc']"
      ]
     },
     "execution_count": 32,
     "metadata": {},
     "output_type": "execute_result"
    }
   ],
   "source": [
    "ed1.true_elderlist"
   ]
  },
  {
   "cell_type": "code",
   "execution_count": 13,
   "metadata": {},
   "outputs": [],
   "source": [
    "class Younger(Elder):\n",
    "    \n",
    "    def __init__(self,name,email, password,current_balance):\n",
    "        self.name = name\n",
    "        self.email = email\n",
    "        self.password = password\n",
    "        self.current_balance = current_balance\n",
    "        self.youngercount = []\n",
    "        \n",
    "        \n",
    "    def login(self, email, password):\n",
    "        if self.email == email and self.password == password:\n",
    "            return \"Login Successfully\"\n",
    "        else:\n",
    "            return \"Enter username and password not valid try again\"\n",
    "        \n",
    "    def younger_dashboard(self):\n",
    "        \n",
    "        eldercount = len(self.youngercount)\n",
    "        print(\"Currently you are taking care of {eldercount} Elders \\n You can request for (4-{eldercount}).\\n 1.Request Elder\\n2.Reviews and Ratings\\n3.Log out\".format(eldercount = eldercount))\n",
    "        choice = int(input())\n",
    "        \n",
    "        if choice == 1:\n",
    "            self.request_elder(elder)\n",
    "            \n",
    "        if choice == 2:\n",
    "            self.review_rating()\n",
    "                            \n",
    "        if choice == 6:\n",
    "            self.logout()\n",
    "                \n",
    "    def request_elder(self,elder):\n",
    "        eldercount = len(self.youngercount)\n",
    "        \n",
    "        if elder.get_elderstatus() == True:\n",
    "            elder.accept_request()\n",
    "            if eldercount < 4:\n",
    "                self.youngercount.append(elder.name)\n",
    "            else:\n",
    "                print(\"Limit exceeded\")\n",
    "    \n",
    "               \n",
    "    def get_elderlist(self):\n",
    "        eld_list = self.youngercount\n",
    "        return eld_list\n",
    "    \n",
    "    def get_youngerdetails(self):\n",
    "        return self.name\n",
    "        "
   ]
  },
  {
   "cell_type": "code",
   "execution_count": 14,
   "metadata": {},
   "outputs": [],
   "source": [
    "yng1 = Younger(\"stu\",\"stu@xyz.com\", 321,0)\n",
    "yng2 = Younger(\"klm\",\"klm@xyz.com\", 232,0)"
   ]
  },
  {
   "cell_type": "code",
   "execution_count": 15,
   "metadata": {},
   "outputs": [
    {
     "name": "stdout",
     "output_type": "stream",
     "text": [
      "Enter your status:\n",
      "1. Approve \n",
      "2. Not Approve \\Enter your option1\n",
      "Approve\n"
     ]
    }
   ],
   "source": [
    "yng1.request_elder(ed1)"
   ]
  },
  {
   "cell_type": "code",
   "execution_count": 16,
   "metadata": {},
   "outputs": [
    {
     "name": "stdout",
     "output_type": "stream",
     "text": [
      "Enter your status:\n",
      "1. Approve \n",
      "2. Not Approve \\Enter your option1\n",
      "Approve\n"
     ]
    }
   ],
   "source": [
    "yng1.request_elder(ed1)"
   ]
  },
  {
   "cell_type": "code",
   "execution_count": 17,
   "metadata": {},
   "outputs": [
    {
     "name": "stdout",
     "output_type": "stream",
     "text": [
      "Enter your status:\n",
      "1. Approve \n",
      "2. Not Approve \\Enter your option1\n",
      "Approve\n"
     ]
    }
   ],
   "source": [
    "yng1.request_elder(ed1)"
   ]
  },
  {
   "cell_type": "code",
   "execution_count": 18,
   "metadata": {},
   "outputs": [
    {
     "name": "stdout",
     "output_type": "stream",
     "text": [
      "Enter your status:\n",
      "1. Approve \n",
      "2. Not Approve \\Enter your option1\n",
      "Approve\n"
     ]
    }
   ],
   "source": [
    "yng1.request_elder(ed1)"
   ]
  },
  {
   "cell_type": "code",
   "execution_count": 19,
   "metadata": {},
   "outputs": [],
   "source": [
    "yng1.request_elder(ed5)"
   ]
  },
  {
   "cell_type": "code",
   "execution_count": 20,
   "metadata": {},
   "outputs": [
    {
     "data": {
      "text/plain": [
       "['abc', 'abc', 'abc', 'abc']"
      ]
     },
     "execution_count": 20,
     "metadata": {},
     "output_type": "execute_result"
    }
   ],
   "source": [
    "yng1.get_elderlist()"
   ]
  },
  {
   "cell_type": "code",
   "execution_count": null,
   "metadata": {},
   "outputs": [],
   "source": []
  },
  {
   "cell_type": "code",
   "execution_count": 125,
   "metadata": {},
   "outputs": [],
   "source": []
  },
  {
   "cell_type": "code",
   "execution_count": null,
   "metadata": {},
   "outputs": [],
   "source": []
  }
 ],
 "metadata": {
  "kernelspec": {
   "display_name": "Python 3",
   "language": "python",
   "name": "python3"
  },
  "language_info": {
   "codemirror_mode": {
    "name": "ipython",
    "version": 3
   },
   "file_extension": ".py",
   "mimetype": "text/x-python",
   "name": "python",
   "nbconvert_exporter": "python",
   "pygments_lexer": "ipython3",
   "version": "3.6.9"
  }
 },
 "nbformat": 4,
 "nbformat_minor": 2
}
