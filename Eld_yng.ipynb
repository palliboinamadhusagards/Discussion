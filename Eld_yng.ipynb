{
 "cells": [
  {
   "cell_type": "code",
   "execution_count": 60,
   "metadata": {},
   "outputs": [],
   "source": [
    "class Elder():\n",
    "    \n",
    "    true_elderlist = []\n",
    "    \n",
    "    @classmethod\n",
    "    def truestatuslist(cls,obj):\n",
    "        if obj.status:\n",
    "            cls.true_elderlist.append(obj.name)\n",
    "        else:\n",
    "            pass\n",
    "    \n",
    "    def __init__(self,name,email, password,current_balance):\n",
    "        self.name = name\n",
    "        self.email = email\n",
    "        self.password = password\n",
    "        self.status = \"\"\n",
    "        self.current_balance = current_balance\n",
    "        self.__approve = False\n",
    "        \n",
    "    \n",
    "    def login(self, email, password):\n",
    "        if self.email == email and self.password == password:\n",
    "            return \"Login Successfully\"\n",
    "        else:\n",
    "            return \"Enter username and password not valid try again\"\n",
    "        \n",
    "    def elder_dashboard(self):\n",
    "        if self.status == 1:\n",
    "            print(\"You are currently available to take care of.\\n 1.Status_change\\n2.Pay for younger\\n3.Accept request\\n4.Younger details\\n5.Reviews and Ratings\\n6.Log out\")\n",
    "            choice = int(input())\n",
    "            if choice == 1:\n",
    "                self.status_change()\n",
    "#                 self.elder_dashboard()\n",
    "            \n",
    "            elif choice == 2:\n",
    "                self.pay_younger()\n",
    "                            \n",
    "            if choice == 3:\n",
    "                self.accept_request()\n",
    "                 \n",
    "            if choice == 4:\n",
    "                self.younger_details()\n",
    "                            \n",
    "            if choice == 5:\n",
    "                self.review_rating()\n",
    "#                 self.elder_dashboard()\n",
    "            \n",
    "            if choice == 6:\n",
    "                self.logout()\n",
    "        \n",
    "        else:\n",
    "            print(\"You are currently unavailable to take care of.\\n 1.Change status \\n2.Log out\")\n",
    "            choice = int(input())\n",
    "            if choice == 1:\n",
    "                self.status_change()\n",
    "                self.elder_dashboard()\n",
    "            \n",
    "            elif choice == 2:\n",
    "                self.logout()\n",
    "            \n",
    "    def status_change(self):\n",
    "        status = \"\"\n",
    "        choice = int(input(\"Enter your status:\\n1. Availabe \\n2. Unavilable \\Enter your option\"))\n",
    "        if choice == 1:\n",
    "            status = True\n",
    "            print()\n",
    "        elif choice == 2:\n",
    "            status = False\n",
    "        print(\"Status changed\")\n",
    "        \n",
    "        self.status = status\n",
    "        \n",
    "        Elder.truestatuslist(self.status)\n",
    "        \n",
    "        self.elder_dashboard()\n",
    "        \n",
    "    def get_elderstatus(self):\n",
    "         return self.status\n",
    "          \n",
    "    def pay_younger(self):\n",
    "        amount = int(input(\"Enter fee amount for younger:\"))\n",
    "        balance = self.current_balance - amount\n",
    "        print(balance)\n",
    "       \n",
    "    def accept_request(self):\n",
    "        approve = \"\"\n",
    "        choice = int(input(\"Enter your status:\\n1. Approve \\n2. Not Approve \\Enter your option\"))\n",
    "        if choice == 1:\n",
    "            approve = True\n",
    "            print(\"Approve\")\n",
    "        elif choice == 2:\n",
    "            approve = False\n",
    "            print(\"Not approve\")\n",
    "            \n",
    "            self.elder_dashboard()\n",
    "        \n",
    "        self.approve = approve\n",
    "        \n",
    "    def younger_details(self):\n",
    "        pass\n",
    "    \n",
    "    def review_ratings(self):\n",
    "        pass\n",
    "    \n",
    "    def logout(self):\n",
    "        pass"
   ]
  },
  {
   "cell_type": "code",
   "execution_count": 61,
   "metadata": {},
   "outputs": [],
   "source": [
    "ed1 = Elder(\"abc\",\"abc@xyz.com\", 123,10000)\n",
    "ed2 = Elder(\"pqr\",\"pqr@xyz.com\", 132,25000)\n",
    "ed3 = Elder(\"klm\",\"klm@xyz.com\", 123,10000)\n",
    "ed4 = Elder(\"uvw\",\"uvw@xyz.com\", 132,25000)\n",
    "ed5 = Elder(\"efg\",\"efg@xyz.com\", 123,10000)\n",
    "ed6 = Elder(\"hij\",\"hij@xyz.com\", 132,25000)"
   ]
  },
  {
   "cell_type": "code",
   "execution_count": 62,
   "metadata": {},
   "outputs": [
    {
     "name": "stdout",
     "output_type": "stream",
     "text": [
      "Enter username and password not valid try again\n"
     ]
    }
   ],
   "source": [
    "res = ed1.login(\"acb@xyz.com\", 123)\n",
    "print(res)"
   ]
  },
  {
   "cell_type": "code",
   "execution_count": 63,
   "metadata": {
    "scrolled": true
   },
   "outputs": [
    {
     "name": "stdout",
     "output_type": "stream",
     "text": [
      "You are currently unavailable to take care of.\n",
      " 1.Change status \n",
      "2.Log out\n",
      "1\n",
      "Enter your status:\n",
      "1. Availabe \n",
      "2. Unavilable \\Enter your option1\n",
      "\n",
      "Status changed\n"
     ]
    },
    {
     "ename": "AttributeError",
     "evalue": "'bool' object has no attribute 'status'",
     "output_type": "error",
     "traceback": [
      "\u001b[1;31m---------------------------------------------------------------------------\u001b[0m",
      "\u001b[1;31mAttributeError\u001b[0m                            Traceback (most recent call last)",
      "\u001b[1;32m<ipython-input-63-98d528bbe153>\u001b[0m in \u001b[0;36m<module>\u001b[1;34m\u001b[0m\n\u001b[1;32m----> 1\u001b[1;33m \u001b[0med1\u001b[0m\u001b[1;33m.\u001b[0m\u001b[0melder_dashboard\u001b[0m\u001b[1;33m(\u001b[0m\u001b[1;33m)\u001b[0m\u001b[1;33m\u001b[0m\u001b[1;33m\u001b[0m\u001b[0m\n\u001b[0m",
      "\u001b[1;32m<ipython-input-60-27483b8b3382>\u001b[0m in \u001b[0;36melder_dashboard\u001b[1;34m(self)\u001b[0m\n\u001b[0;32m     53\u001b[0m             \u001b[0mchoice\u001b[0m \u001b[1;33m=\u001b[0m \u001b[0mint\u001b[0m\u001b[1;33m(\u001b[0m\u001b[0minput\u001b[0m\u001b[1;33m(\u001b[0m\u001b[1;33m)\u001b[0m\u001b[1;33m)\u001b[0m\u001b[1;33m\u001b[0m\u001b[1;33m\u001b[0m\u001b[0m\n\u001b[0;32m     54\u001b[0m             \u001b[1;32mif\u001b[0m \u001b[0mchoice\u001b[0m \u001b[1;33m==\u001b[0m \u001b[1;36m1\u001b[0m\u001b[1;33m:\u001b[0m\u001b[1;33m\u001b[0m\u001b[1;33m\u001b[0m\u001b[0m\n\u001b[1;32m---> 55\u001b[1;33m                 \u001b[0mself\u001b[0m\u001b[1;33m.\u001b[0m\u001b[0mstatus_change\u001b[0m\u001b[1;33m(\u001b[0m\u001b[1;33m)\u001b[0m\u001b[1;33m\u001b[0m\u001b[1;33m\u001b[0m\u001b[0m\n\u001b[0m\u001b[0;32m     56\u001b[0m                 \u001b[0mself\u001b[0m\u001b[1;33m.\u001b[0m\u001b[0melder_dashboard\u001b[0m\u001b[1;33m(\u001b[0m\u001b[1;33m)\u001b[0m\u001b[1;33m\u001b[0m\u001b[1;33m\u001b[0m\u001b[0m\n\u001b[0;32m     57\u001b[0m \u001b[1;33m\u001b[0m\u001b[0m\n",
      "\u001b[1;32m<ipython-input-60-27483b8b3382>\u001b[0m in \u001b[0;36mstatus_change\u001b[1;34m(self)\u001b[0m\n\u001b[0;32m     71\u001b[0m         \u001b[0mself\u001b[0m\u001b[1;33m.\u001b[0m\u001b[0mstatus\u001b[0m \u001b[1;33m=\u001b[0m \u001b[0mstatus\u001b[0m\u001b[1;33m\u001b[0m\u001b[1;33m\u001b[0m\u001b[0m\n\u001b[0;32m     72\u001b[0m \u001b[1;33m\u001b[0m\u001b[0m\n\u001b[1;32m---> 73\u001b[1;33m         \u001b[0mElder\u001b[0m\u001b[1;33m.\u001b[0m\u001b[0mtruestatuslist\u001b[0m\u001b[1;33m(\u001b[0m\u001b[0mself\u001b[0m\u001b[1;33m.\u001b[0m\u001b[0mstatus\u001b[0m\u001b[1;33m)\u001b[0m\u001b[1;33m\u001b[0m\u001b[1;33m\u001b[0m\u001b[0m\n\u001b[0m\u001b[0;32m     74\u001b[0m \u001b[1;33m\u001b[0m\u001b[0m\n\u001b[0;32m     75\u001b[0m         \u001b[0mself\u001b[0m\u001b[1;33m.\u001b[0m\u001b[0melder_dashboard\u001b[0m\u001b[1;33m(\u001b[0m\u001b[1;33m)\u001b[0m\u001b[1;33m\u001b[0m\u001b[1;33m\u001b[0m\u001b[0m\n",
      "\u001b[1;32m<ipython-input-60-27483b8b3382>\u001b[0m in \u001b[0;36mtruestatuslist\u001b[1;34m(cls, obj)\u001b[0m\n\u001b[0;32m      5\u001b[0m     \u001b[1;33m@\u001b[0m\u001b[0mclassmethod\u001b[0m\u001b[1;33m\u001b[0m\u001b[1;33m\u001b[0m\u001b[0m\n\u001b[0;32m      6\u001b[0m     \u001b[1;32mdef\u001b[0m \u001b[0mtruestatuslist\u001b[0m\u001b[1;33m(\u001b[0m\u001b[0mcls\u001b[0m\u001b[1;33m,\u001b[0m\u001b[0mobj\u001b[0m\u001b[1;33m)\u001b[0m\u001b[1;33m:\u001b[0m\u001b[1;33m\u001b[0m\u001b[1;33m\u001b[0m\u001b[0m\n\u001b[1;32m----> 7\u001b[1;33m         \u001b[1;32mif\u001b[0m \u001b[0mobj\u001b[0m\u001b[1;33m.\u001b[0m\u001b[0mstatus\u001b[0m\u001b[1;33m:\u001b[0m\u001b[1;33m\u001b[0m\u001b[1;33m\u001b[0m\u001b[0m\n\u001b[0m\u001b[0;32m      8\u001b[0m             \u001b[0mcls\u001b[0m\u001b[1;33m.\u001b[0m\u001b[0mtrue_elderlist\u001b[0m\u001b[1;33m.\u001b[0m\u001b[0mappend\u001b[0m\u001b[1;33m(\u001b[0m\u001b[0mobj\u001b[0m\u001b[1;33m.\u001b[0m\u001b[0mname\u001b[0m\u001b[1;33m)\u001b[0m\u001b[1;33m\u001b[0m\u001b[1;33m\u001b[0m\u001b[0m\n\u001b[0;32m      9\u001b[0m         \u001b[1;32melse\u001b[0m\u001b[1;33m:\u001b[0m\u001b[1;33m\u001b[0m\u001b[1;33m\u001b[0m\u001b[0m\n",
      "\u001b[1;31mAttributeError\u001b[0m: 'bool' object has no attribute 'status'"
     ]
    }
   ],
   "source": [
    "ed1.elder_dashboard()"
   ]
  },
  {
   "cell_type": "code",
   "execution_count": 37,
   "metadata": {},
   "outputs": [
    {
     "data": {
      "text/plain": [
       "True"
      ]
     },
     "execution_count": 37,
     "metadata": {},
     "output_type": "execute_result"
    }
   ],
   "source": [
    "ed1.get_elderstatus()"
   ]
  },
  {
   "cell_type": "code",
   "execution_count": 38,
   "metadata": {},
   "outputs": [
    {
     "data": {
      "text/plain": [
       "[]"
      ]
     },
     "execution_count": 38,
     "metadata": {},
     "output_type": "execute_result"
    }
   ],
   "source": [
    "Elder.true_elderlist"
   ]
  },
  {
   "cell_type": "code",
   "execution_count": 12,
   "metadata": {},
   "outputs": [
    {
     "data": {
      "text/plain": [
       "''"
      ]
     },
     "execution_count": 12,
     "metadata": {},
     "output_type": "execute_result"
    }
   ],
   "source": [
    "ed2.get_elderstatus()"
   ]
  },
  {
   "cell_type": "code",
   "execution_count": 30,
   "metadata": {},
   "outputs": [
    {
     "name": "stdout",
     "output_type": "stream",
     "text": [
      "You are currently unavailable to take care of.\n",
      " 1.Change status \n",
      "2.Log out\n",
      "1\n",
      "Enter your status:\n",
      "1. Availabe \n",
      "2. Unavilable \\Enter your option1\n",
      "\n",
      "Status changed\n",
      "You are currently available to take care of.\n",
      " 1.Status_change\n",
      "2.Pay for younger\n",
      "3.Accept request\n",
      "4.Younger details\n",
      "5.Reviews and Ratings\n",
      "6.Log out\n",
      "6\n",
      "You are currently available to take care of.\n",
      " 1.Status_change\n",
      "2.Pay for younger\n",
      "3.Accept request\n",
      "4.Younger details\n",
      "5.Reviews and Ratings\n",
      "6.Log out\n",
      "6\n"
     ]
    }
   ],
   "source": [
    "ed2.elder_dashboard()"
   ]
  },
  {
   "cell_type": "code",
   "execution_count": 31,
   "metadata": {},
   "outputs": [
    {
     "data": {
      "text/plain": [
       "True"
      ]
     },
     "execution_count": 31,
     "metadata": {},
     "output_type": "execute_result"
    }
   ],
   "source": [
    "ed2.get_elderstatus()"
   ]
  },
  {
   "cell_type": "code",
   "execution_count": 32,
   "metadata": {},
   "outputs": [
    {
     "data": {
      "text/plain": [
       "['abc']"
      ]
     },
     "execution_count": 32,
     "metadata": {},
     "output_type": "execute_result"
    }
   ],
   "source": [
    "ed1.true_elderlist"
   ]
  },
  {
   "cell_type": "code",
   "execution_count": 13,
   "metadata": {},
   "outputs": [],
   "source": [
    "class Younger(Elder):\n",
    "    \n",
    "    def __init__(self,name,email, password,current_balance):\n",
    "        self.name = name\n",
    "        self.email = email\n",
    "        self.password = password\n",
    "        self.current_balance = current_balance\n",
    "        self.youngercount = []\n",
    "        \n",
    "        \n",
    "    def login(self, email, password):\n",
    "        if self.email == email and self.password == password:\n",
    "            return \"Login Successfully\"\n",
    "        else:\n",
    "            return \"Enter username and password not valid try again\"\n",
    "        \n",
    "    def younger_dashboard(self):\n",
    "        \n",
    "        eldercount = len(self.youngercount)\n",
    "        print(\"Currently you are taking care of {eldercount} Elders \\n You can request for (4-{eldercount}).\\n 1.Request Elder\\n2.Reviews and Ratings\\n3.Log out\".format(eldercount = eldercount))\n",
    "        choice = int(input())\n",
    "        \n",
    "        if choice == 1:\n",
    "            self.request_elder(elder)\n",
    "            \n",
    "        if choice == 2:\n",
    "            self.review_rating()\n",
    "                            \n",
    "        if choice == 6:\n",
    "            self.logout()\n",
    "                \n",
    "    def request_elder(self,elder):\n",
    "        eldercount = len(self.youngercount)\n",
    "        \n",
    "        if elder.get_elderstatus() == True:\n",
    "            elder.accept_request()\n",
    "            if eldercount < 4:\n",
    "                self.youngercount.append(elder.name)\n",
    "            else:\n",
    "                print(\"Limit exceeded\")\n",
    "    \n",
    "               \n",
    "    def get_elderlist(self):\n",
    "        eld_list = self.youngercount\n",
    "        return eld_list\n",
    "    \n",
    "    def get_youngerdetails(self):\n",
    "        return self.name\n",
    "        "
   ]
  },
  {
   "cell_type": "code",
   "execution_count": 14,
   "metadata": {},
   "outputs": [],
   "source": [
    "yng1 = Younger(\"stu\",\"stu@xyz.com\", 321,0)\n",
    "yng2 = Younger(\"klm\",\"klm@xyz.com\", 232,0)"
   ]
  },
  {
   "cell_type": "code",
   "execution_count": 15,
   "metadata": {},
   "outputs": [
    {
     "name": "stdout",
     "output_type": "stream",
     "text": [
      "Enter your status:\n",
      "1. Approve \n",
      "2. Not Approve \\Enter your option1\n",
      "Approve\n"
     ]
    }
   ],
   "source": [
    "yng1.request_elder(ed1)"
   ]
  },
  {
   "cell_type": "code",
   "execution_count": 16,
   "metadata": {},
   "outputs": [
    {
     "name": "stdout",
     "output_type": "stream",
     "text": [
      "Enter your status:\n",
      "1. Approve \n",
      "2. Not Approve \\Enter your option1\n",
      "Approve\n"
     ]
    }
   ],
   "source": [
    "yng1.request_elder(ed1)"
   ]
  },
  {
   "cell_type": "code",
   "execution_count": 17,
   "metadata": {},
   "outputs": [
    {
     "name": "stdout",
     "output_type": "stream",
     "text": [
      "Enter your status:\n",
      "1. Approve \n",
      "2. Not Approve \\Enter your option1\n",
      "Approve\n"
     ]
    }
   ],
   "source": [
    "yng1.request_elder(ed1)"
   ]
  },
  {
   "cell_type": "code",
   "execution_count": 18,
   "metadata": {},
   "outputs": [
    {
     "name": "stdout",
     "output_type": "stream",
     "text": [
      "Enter your status:\n",
      "1. Approve \n",
      "2. Not Approve \\Enter your option1\n",
      "Approve\n"
     ]
    }
   ],
   "source": [
    "yng1.request_elder(ed1)"
   ]
  },
  {
   "cell_type": "code",
   "execution_count": 19,
   "metadata": {},
   "outputs": [],
   "source": [
    "yng1.request_elder(ed5)"
   ]
  },
  {
   "cell_type": "code",
   "execution_count": 20,
   "metadata": {},
   "outputs": [
    {
     "data": {
      "text/plain": [
       "['abc', 'abc', 'abc', 'abc']"
      ]
     },
     "execution_count": 20,
     "metadata": {},
     "output_type": "execute_result"
    }
   ],
   "source": [
    "yng1.get_elderlist()"
   ]
  },
  {
   "cell_type": "code",
   "execution_count": null,
   "metadata": {},
   "outputs": [],
   "source": []
  },
  {
   "cell_type": "code",
   "execution_count": 125,
   "metadata": {},
   "outputs": [],
   "source": []
  },
  {
   "cell_type": "code",
   "execution_count": null,
   "metadata": {},
   "outputs": [],
   "source": []
  }
 ],
 "metadata": {
  "kernelspec": {
   "display_name": "Python 3",
   "language": "python",
   "name": "python3"
  },
  "language_info": {
   "codemirror_mode": {
    "name": "ipython",
    "version": 3
   },
   "file_extension": ".py",
   "mimetype": "text/x-python",
   "name": "python",
   "nbconvert_exporter": "python",
   "pygments_lexer": "ipython3",
   "version": "3.7.3"
  }
 },
 "nbformat": 4,
 "nbformat_minor": 2
}
